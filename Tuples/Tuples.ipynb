{
  "nbformat": 4,
  "nbformat_minor": 0,
  "metadata": {
    "colab": {
      "provenance": [],
      "authorship_tag": "ABX9TyPQxPOvZNybQAMG+fWDicur",
      "include_colab_link": true
    },
    "kernelspec": {
      "name": "python3",
      "display_name": "Python 3"
    },
    "language_info": {
      "name": "python"
    }
  },
  "cells": [
    {
      "cell_type": "markdown",
      "metadata": {
        "id": "view-in-github",
        "colab_type": "text"
      },
      "source": [
        "<a href=\"https://colab.research.google.com/github/Jay-Jeremiah/Python_files/blob/main/Tuples.ipynb\" target=\"_parent\"><img src=\"https://colab.research.google.com/assets/colab-badge.svg\" alt=\"Open In Colab\"/></a>"
      ]
    },
    {
      "cell_type": "markdown",
      "source": [
        "# Tuples\n",
        " Identified with () and are immutable\n"
      ],
      "metadata": {
        "id": "C6zinyN1ygiN"
      }
    },
    {
      "cell_type": "code",
      "source": [
        "colours = ('red','blue','black')\n",
        "\n",
        "print(len(colours))\n",
        "\n",
        "print(type(colours))\n",
        "\n",
        "print(colours[2])"
      ],
      "metadata": {
        "colab": {
          "base_uri": "https://localhost:8080/"
        },
        "id": "K-qnDuaJyqFz",
        "outputId": "fdfca90b-51c9-4f96-80ff-1513845d41d6"
      },
      "execution_count": 1,
      "outputs": [
        {
          "output_type": "stream",
          "name": "stdout",
          "text": [
            "3\n",
            "<class 'tuple'>\n",
            "black\n"
          ]
        }
      ]
    },
    {
      "cell_type": "markdown",
      "source": [
        "## Tuples with one element\n",
        "\n",
        "### indicated with , at the end\n"
      ],
      "metadata": {
        "id": "AlQozDDRzQaH"
      }
    },
    {
      "cell_type": "code",
      "source": [
        "names = (\"Ahmed\"),\n",
        "print(names)\n",
        "print(type(names))\n",
        "\n",
        "number = (2),\n",
        "print(number)\n",
        "print(type(number))\n"
      ],
      "metadata": {
        "colab": {
          "base_uri": "https://localhost:8080/"
        },
        "id": "CzRRuBLjzmSp",
        "outputId": "79ed1469-0ef6-4848-d204-789ac7f864e5"
      },
      "execution_count": 2,
      "outputs": [
        {
          "output_type": "stream",
          "name": "stdout",
          "text": [
            "('Ahmed',)\n",
            "<class 'tuple'>\n",
            "(2,)\n",
            "<class 'tuple'>\n"
          ]
        }
      ]
    },
    {
      "cell_type": "markdown",
      "source": [
        "Tuple packing"
      ],
      "metadata": {
        "id": "OOfkwtRc0KMN"
      }
    },
    {
      "cell_type": "code",
      "source": [
        "clothes = 'pants','shorts'\n",
        "\n",
        "print(clothes)\n",
        "print(type(clothes))"
      ],
      "metadata": {
        "colab": {
          "base_uri": "https://localhost:8080/"
        },
        "id": "WSBAfvfA0jNZ",
        "outputId": "dc98bb71-ab01-4b31-8deb-0848d0006d41"
      },
      "execution_count": 3,
      "outputs": [
        {
          "output_type": "stream",
          "name": "stdout",
          "text": [
            "('pants', 'shorts')\n",
            "<class 'tuple'>\n"
          ]
        }
      ]
    },
    {
      "cell_type": "markdown",
      "source": [
        "Sequence Upacking"
      ],
      "metadata": {
        "id": "cEzvlDHg1EC8"
      }
    },
    {
      "cell_type": "code",
      "source": [
        "x,y = clothes\n",
        "\n",
        "print(x)\n",
        "print(y)"
      ],
      "metadata": {
        "colab": {
          "base_uri": "https://localhost:8080/"
        },
        "id": "u7MQGVun22wS",
        "outputId": "cb50309f-e617-4e65-b433-76f00a9dc843"
      },
      "execution_count": 4,
      "outputs": [
        {
          "output_type": "stream",
          "name": "stdout",
          "text": [
            "pants\n",
            "shorts\n"
          ]
        }
      ]
    },
    {
      "cell_type": "markdown",
      "source": [
        "# Tuple functions"
      ],
      "metadata": {
        "id": "QQuzVxr12_Y3"
      }
    },
    {
      "cell_type": "code",
      "source": [
        "# count() - returns number of occurences in tuple\n",
        "# mainly deals with integers  data type\n",
        "num1 = (2,2,1,0,7,4,1,2)\n",
        "\n",
        "cout = num1.count(1)\n",
        "\n",
        "print(\"The count is \",cout)\n",
        "\n",
        "# index\n",
        "\n",
        "ind = num1.index(1)\n",
        "\n",
        "print(\"The index is \",ind)"
      ],
      "metadata": {
        "colab": {
          "base_uri": "https://localhost:8080/"
        },
        "id": "S2CnjYZH3rGa",
        "outputId": "1fc4b861-fe2d-4fea-927e-e1c9e2684234"
      },
      "execution_count": 6,
      "outputs": [
        {
          "output_type": "stream",
          "name": "stdout",
          "text": [
            "The count is  2\n",
            "2\n"
          ]
        }
      ]
    }
  ]
}