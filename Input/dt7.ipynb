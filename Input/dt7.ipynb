{
 "cells": [
  {
   "cell_type": "code",
   "execution_count": 1,
   "metadata": {},
   "outputs": [
    {
     "name": "stdout",
     "output_type": "stream",
     "text": [
      "The circumference = 25.12 \n",
      "The diameter = 8.0\n",
      "the Area = 50.24\n"
     ]
    }
   ],
   "source": [
    "R =float(input(\"Enter the radius: \"))\n",
    "\n",
    "Pi = 3.14\n",
    "\n",
    "Circumference = 2*Pi*R\n",
    "\n",
    "Diameter = Circumference/Pi\n",
    "\n",
    "Area = Pi*R*R\n",
    "\n",
    "print(f\"The circumference = {Circumference} \")\n",
    "print(f\"The diameter = {Diameter}\")\n",
    "print(f\"the Area = {Area}\")"
   ]
  }
 ],
 "metadata": {
  "kernelspec": {
   "display_name": "Python 3",
   "language": "python",
   "name": "python3"
  },
  "language_info": {
   "codemirror_mode": {
    "name": "ipython",
    "version": 3
   },
   "file_extension": ".py",
   "mimetype": "text/x-python",
   "name": "python",
   "nbconvert_exporter": "python",
   "pygments_lexer": "ipython3",
   "version": "3.11.8"
  }
 },
 "nbformat": 4,
 "nbformat_minor": 2
}
