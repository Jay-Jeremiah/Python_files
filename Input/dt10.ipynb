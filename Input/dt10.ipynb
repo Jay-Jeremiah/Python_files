{
 "cells": [
  {
   "cell_type": "code",
   "execution_count": 1,
   "metadata": {},
   "outputs": [],
   "source": [
    "import math"
   ]
  },
  {
   "cell_type": "code",
   "execution_count": 4,
   "metadata": {},
   "outputs": [
    {
     "name": "stdout",
     "output_type": "stream",
     "text": [
      "The lenth of the hypotunese is 7.615773105863909 \n"
     ]
    }
   ],
   "source": [
    "A = int(input('Enter side A: '))\n",
    "\n",
    "B = int(input('Enter side B: '))\n",
    "\n",
    "mi = (A*A) + (B*B) \n",
    "\n",
    "tri = math.sqrt(mi)\n",
    "\n",
    "print(f\"The lenth of the hypotunese is {tri} \")"
   ]
  }
 ],
 "metadata": {
  "kernelspec": {
   "display_name": "Python 3",
   "language": "python",
   "name": "python3"
  },
  "language_info": {
   "codemirror_mode": {
    "name": "ipython",
    "version": 3
   },
   "file_extension": ".py",
   "mimetype": "text/x-python",
   "name": "python",
   "nbconvert_exporter": "python",
   "pygments_lexer": "ipython3",
   "version": "3.11.8"
  }
 },
 "nbformat": 4,
 "nbformat_minor": 2
}
