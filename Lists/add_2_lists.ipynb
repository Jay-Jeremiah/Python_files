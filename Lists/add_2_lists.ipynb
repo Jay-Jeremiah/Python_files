{
 "cells": [
  {
   "cell_type": "code",
   "execution_count": 2,
   "metadata": {},
   "outputs": [
    {
     "name": "stdout",
     "output_type": "stream",
     "text": [
      "['red', 'blue', 'green']\n",
      "['red', 'blue', 'green', 'orange']\n"
     ]
    }
   ],
   "source": [
    "# append() adds an item to the list\n",
    "\n",
    "colours = ['red','blue','green']\n",
    "print(colours)\n",
    "\n",
    "colours.append('orange')\n",
    "\n",
    "print(colours)"
   ]
  },
  {
   "cell_type": "code",
   "execution_count": 3,
   "metadata": {},
   "outputs": [
    {
     "name": "stdout",
     "output_type": "stream",
     "text": [
      "['Apple', 'orange', 'pear']\n",
      "['Apple', 'banana', 'orange', 'pear']\n"
     ]
    }
   ],
   "source": [
    "#insert() - adds an item to the  list to a specified index\n",
    "\n",
    "fruits = ['Apple','orange','pear']\n",
    "print(fruits)\n",
    "\n",
    "fruits.insert(1, 'banana')\n",
    "\n",
    "print(fruits)"
   ]
  },
  {
   "cell_type": "markdown",
   "metadata": {},
   "source": [
    "Adding the lists above"
   ]
  },
  {
   "cell_type": "code",
   "execution_count": 4,
   "metadata": {},
   "outputs": [
    {
     "name": "stdout",
     "output_type": "stream",
     "text": [
      "['Apple', 'banana', 'orange', 'pear', 'red', 'blue', 'green', 'orange']\n"
     ]
    }
   ],
   "source": [
    "#extend() - adds list elements to another list\n",
    "\n",
    "fruits.extend(colours)\n",
    "\n",
    "print(fruits)"
   ]
  }
 ],
 "metadata": {
  "kernelspec": {
   "display_name": "Python 3",
   "language": "python",
   "name": "python3"
  },
  "language_info": {
   "codemirror_mode": {
    "name": "ipython",
    "version": 3
   },
   "file_extension": ".py",
   "mimetype": "text/x-python",
   "name": "python",
   "nbconvert_exporter": "python",
   "pygments_lexer": "ipython3",
   "version": "3.11.8"
  }
 },
 "nbformat": 4,
 "nbformat_minor": 2
}
