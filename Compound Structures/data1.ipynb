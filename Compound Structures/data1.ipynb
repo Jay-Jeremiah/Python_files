{
 "cells": [
  {
   "cell_type": "code",
   "execution_count": 8,
   "metadata": {},
   "outputs": [],
   "source": [
    "### Compound structures are lines of code with more than one data type in one line of code\n",
    "\n",
    "#dictionary with a list and tuple inside\n",
    "my_dict = {\n",
    "    1: {1: [1,2.3,\"ahmed\"], 3.2:(1,2,3)}\n",
    "}\n"
   ]
  },
  {
   "cell_type": "code",
   "execution_count": 9,
   "metadata": {},
   "outputs": [
    {
     "data": {
      "text/plain": [
       "{1: [1, 2.3, 'ahmed'], 3.2: (1, 2, 3)}"
      ]
     },
     "execution_count": 9,
     "metadata": {},
     "output_type": "execute_result"
    }
   ],
   "source": [
    "#Accessing the whole dictionary\n",
    "my_dict[1]"
   ]
  },
  {
   "cell_type": "code",
   "execution_count": 10,
   "metadata": {},
   "outputs": [
    {
     "name": "stdout",
     "output_type": "stream",
     "text": [
      "The list has  [1, 2.3, 'ahmed']\n",
      "The tuple has  (1, 2, 3)\n"
     ]
    }
   ],
   "source": [
    "#Accessing the list and tuple using keys\n",
    "List = my_dict[1][1]\n",
    "print(\"The list has \",List)\n",
    "\n",
    "Tuple = my_dict[1][3.2]\n",
    "print(\"The tuple has \",Tuple)"
   ]
  },
  {
   "cell_type": "code",
   "execution_count": 12,
   "metadata": {},
   "outputs": [
    {
     "name": "stdout",
     "output_type": "stream",
     "text": [
      "ahmed\n"
     ]
    }
   ],
   "source": [
    "#Accessing individual values in the list\n",
    "list_item = my_dict[1][1][2]\n",
    "print(list_item)"
   ]
  },
  {
   "cell_type": "code",
   "execution_count": null,
   "metadata": {},
   "outputs": [],
   "source": []
  }
 ],
 "metadata": {
  "kernelspec": {
   "display_name": "Python 3",
   "language": "python",
   "name": "python3"
  },
  "language_info": {
   "codemirror_mode": {
    "name": "ipython",
    "version": 3
   },
   "file_extension": ".py",
   "mimetype": "text/x-python",
   "name": "python",
   "nbconvert_exporter": "python",
   "pygments_lexer": "ipython3",
   "version": "3.11.9"
  }
 },
 "nbformat": 4,
 "nbformat_minor": 2
}
