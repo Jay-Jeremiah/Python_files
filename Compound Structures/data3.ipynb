{
 "cells": [
  {
   "cell_type": "code",
   "execution_count": 1,
   "metadata": {},
   "outputs": [],
   "source": [
    "#Tuple with a dictionary and list\n",
    "my_tuple = (1,2,{1:[\"tuple\",6]})"
   ]
  },
  {
   "cell_type": "markdown",
   "metadata": {},
   "source": [
    "Showing the tuple items"
   ]
  },
  {
   "cell_type": "code",
   "execution_count": 2,
   "metadata": {},
   "outputs": [
    {
     "name": "stdout",
     "output_type": "stream",
     "text": [
      "1\n",
      "2\n",
      "{1: ['tuple', 6]}\n"
     ]
    }
   ],
   "source": [
    "one = my_tuple[0]\n",
    "print(one)\n",
    "\n",
    "two = my_tuple[1]\n",
    "print(two)\n",
    "\n",
    "three = my_tuple[2]\n",
    "print(three)"
   ]
  },
  {
   "cell_type": "markdown",
   "metadata": {},
   "source": [
    "Dealing with the dictionary"
   ]
  },
  {
   "cell_type": "code",
   "execution_count": 4,
   "metadata": {},
   "outputs": [
    {
     "name": "stdout",
     "output_type": "stream",
     "text": [
      "{1: ['tuple', 6]}\n",
      "['tuple', 6]\n"
     ]
    }
   ],
   "source": [
    "print(my_tuple[2])\n",
    "\n",
    "four = my_tuple[2][1]    #showing dictionary item using key\n",
    "print(four)\n"
   ]
  },
  {
   "cell_type": "markdown",
   "metadata": {},
   "source": [
    "Dealing with the list within the dictionary"
   ]
  },
  {
   "cell_type": "code",
   "execution_count": 5,
   "metadata": {},
   "outputs": [
    {
     "name": "stdout",
     "output_type": "stream",
     "text": [
      "['tuple', 6]\n",
      "tuple\n",
      "6\n"
     ]
    }
   ],
   "source": [
    "print(my_tuple[2][1])\n",
    "\n",
    "five = my_tuple[2][1][0]\n",
    "print(five)\n",
    "\n",
    "six = my_tuple[2][1][1]\n",
    "print(six)"
   ]
  }
 ],
 "metadata": {
  "kernelspec": {
   "display_name": "Python 3",
   "language": "python",
   "name": "python3"
  },
  "language_info": {
   "codemirror_mode": {
    "name": "ipython",
    "version": 3
   },
   "file_extension": ".py",
   "mimetype": "text/x-python",
   "name": "python",
   "nbconvert_exporter": "python",
   "pygments_lexer": "ipython3",
   "version": "3.11.9"
  }
 },
 "nbformat": 4,
 "nbformat_minor": 2
}
