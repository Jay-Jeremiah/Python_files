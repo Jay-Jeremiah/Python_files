{
 "cells": [
  {
   "cell_type": "code",
   "execution_count": 3,
   "metadata": {},
   "outputs": [],
   "source": [
    "# List with a dictionary and a tuple\n",
    "my_list = [{100:[\"cat\",\"dog\",\"rat\"]},[2,(3,4,5),8], \"Jerry\"]\n"
   ]
  },
  {
   "cell_type": "code",
   "execution_count": 4,
   "metadata": {},
   "outputs": [
    {
     "name": "stdout",
     "output_type": "stream",
     "text": [
      "{100: ['cat', 'dog', 'rat']}\n",
      "[2, (3, 4, 5), 8]\n",
      "Jerry\n"
     ]
    }
   ],
   "source": [
    "#Accessing list items\n",
    "one = my_list[0]\n",
    "print(one)\n",
    "\n",
    "two = my_list[1]\n",
    "print(two)\n",
    "\n",
    "three = my_list[2]\n",
    "print(three)"
   ]
  },
  {
   "cell_type": "code",
   "execution_count": 5,
   "metadata": {},
   "outputs": [
    {
     "name": "stdout",
     "output_type": "stream",
     "text": [
      "{100: ['cat', 'dog', 'rat']}\n",
      "['cat', 'dog', 'rat']\n",
      "cat\n"
     ]
    }
   ],
   "source": [
    "#Dealing with the dictionary\n",
    "print(one)                          #shows the dictionary\n",
    "\n",
    "dict_item1 = my_list[0][100]        #shows the dictionary item basing on key\n",
    "print(dict_item1)\n",
    "\n",
    "dict_item2 = my_list[0][100][0]     #shows the first item in the list of the dictionary\n",
    "print(dict_item2)\n",
    "\n",
    "\n",
    "\n"
   ]
  },
  {
   "cell_type": "code",
   "execution_count": 8,
   "metadata": {},
   "outputs": [
    {
     "name": "stdout",
     "output_type": "stream",
     "text": [
      "[2, (3, 4, 5), 8]\n",
      "List item  2\n",
      "Tuple  (3, 4, 5)\n",
      "Tuple item  4\n"
     ]
    }
   ],
   "source": [
    "#Accessing the tuple within the list\n",
    "print(my_list[1])                           #shows the list within the list(nested list)\n",
    "\n",
    "list_item1 = my_list[1][0]                  #shows the item 1 within the nested list\n",
    "print(\"List item \",list_item1)\n",
    "\n",
    "list_item2 = my_list[1][1]                  #shows the item 2(the tuple) within the nested list\n",
    "print(\"Tuple \",list_item2)\n",
    "\n",
    "list_item3 = my_list[1][1][1]                  #shows the tuple item 2 within the nested list\n",
    "print(\"Tuple item \",list_item3)\n",
    "\n",
    "\n",
    "\n"
   ]
  }
 ],
 "metadata": {
  "kernelspec": {
   "display_name": "Python 3",
   "language": "python",
   "name": "python3"
  },
  "language_info": {
   "codemirror_mode": {
    "name": "ipython",
    "version": 3
   },
   "file_extension": ".py",
   "mimetype": "text/x-python",
   "name": "python",
   "nbconvert_exporter": "python",
   "pygments_lexer": "ipython3",
   "version": "3.11.9"
  }
 },
 "nbformat": 4,
 "nbformat_minor": 2
}
