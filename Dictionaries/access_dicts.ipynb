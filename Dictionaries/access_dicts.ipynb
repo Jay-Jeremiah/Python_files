{
 "cells": [
  {
   "cell_type": "code",
   "execution_count": 2,
   "metadata": {},
   "outputs": [
    {
     "name": "stdout",
     "output_type": "stream",
     "text": [
      "Harry\n"
     ]
    }
   ],
   "source": [
    "#access items in dictionary using key names inside []\n",
    "introduction = {\n",
    "    'name':'Harry',\n",
    "    'age':34,\n",
    "    'country':'Uganda'\n",
    "}\n",
    "\n",
    "x = introduction['name']\n",
    "\n",
    "print(x)"
   ]
  },
  {
   "cell_type": "code",
   "execution_count": 4,
   "metadata": {},
   "outputs": [
    {
     "name": "stdout",
     "output_type": "stream",
     "text": [
      "Harry\n"
     ]
    }
   ],
   "source": [
    "# we can also use get() function to access dictionary items\n",
    "y = introduction.get('name')\n",
    "print(y)"
   ]
  },
  {
   "cell_type": "code",
   "execution_count": 7,
   "metadata": {},
   "outputs": [
    {
     "name": "stdout",
     "output_type": "stream",
     "text": [
      "dict_keys(['name', 'age', 'country'])\n"
     ]
    }
   ],
   "source": [
    "# keys() -returns the list of the dictionary keys\n",
    "z = introduction.keys()\n",
    "print(z)"
   ]
  },
  {
   "cell_type": "code",
   "execution_count": 9,
   "metadata": {},
   "outputs": [
    {
     "name": "stdout",
     "output_type": "stream",
     "text": [
      "{'name': 'Harry', 'age': 34, 'country': 'Uganda', 'color': 'white'}\n",
      "{'name': 'Harry', 'age': 34, 'country': 'Uganda', 'color': 'white'}\n",
      "dict_keys(['name', 'age', 'country', 'color'])\n"
     ]
    }
   ],
   "source": [
    "# add items to the dictionary\n",
    "print(introduction)  #before the change\n",
    "\n",
    "\n",
    "introduction['color'] = \"white\"\n",
    "\n",
    "print(introduction)  #after the change\n",
    "\n",
    "print(introduction.keys())\n"
   ]
  },
  {
   "cell_type": "code",
   "execution_count": 11,
   "metadata": {},
   "outputs": [
    {
     "name": "stdout",
     "output_type": "stream",
     "text": [
      "dict_values(['Harry', 34, 'Uganda', 'white'])\n"
     ]
    }
   ],
   "source": [
    "#values() - returns a list of values in the dictionary\n",
    "\n",
    "print(introduction.values())"
   ]
  },
  {
   "cell_type": "code",
   "execution_count": 12,
   "metadata": {},
   "outputs": [
    {
     "name": "stdout",
     "output_type": "stream",
     "text": [
      "color is one of the keys in the dictionary\n"
     ]
    }
   ],
   "source": [
    "if 'color' in introduction:\n",
    "    print('color is one of the keys in the dictionary')"
   ]
  }
 ],
 "metadata": {
  "kernelspec": {
   "display_name": "Python 3",
   "language": "python",
   "name": "python3"
  },
  "language_info": {
   "codemirror_mode": {
    "name": "ipython",
    "version": 3
   },
   "file_extension": ".py",
   "mimetype": "text/x-python",
   "name": "python",
   "nbconvert_exporter": "python",
   "pygments_lexer": "ipython3",
   "version": "3.11.8"
  }
 },
 "nbformat": 4,
 "nbformat_minor": 2
}
