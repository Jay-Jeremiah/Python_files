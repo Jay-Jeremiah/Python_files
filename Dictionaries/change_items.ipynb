{
 "cells": [
  {
   "cell_type": "code",
   "execution_count": 1,
   "metadata": {},
   "outputs": [
    {
     "name": "stdout",
     "output_type": "stream",
     "text": [
      "{'brand': 'GL', 'model': 'Mercedes Benz', 'year': 2018}\n"
     ]
    }
   ],
   "source": [
    "#change items in the dictionary\n",
    "car = {\n",
    "    'brand':\"GL\",\n",
    "    'model':'Mercedes Benz',\n",
    "    'year':2010\n",
    "}\n",
    "\n",
    "car['year'] = 2018\n",
    "\n",
    "print(car)"
   ]
  },
  {
   "cell_type": "code",
   "execution_count": null,
   "metadata": {},
   "outputs": [],
   "source": [
    "#we can also use update() method \n",
    "update1 = "
   ]
  }
 ],
 "metadata": {
  "kernelspec": {
   "display_name": "Python 3",
   "language": "python",
   "name": "python3"
  },
  "language_info": {
   "codemirror_mode": {
    "name": "ipython",
    "version": 3
   },
   "file_extension": ".py",
   "mimetype": "text/x-python",
   "name": "python",
   "nbconvert_exporter": "python",
   "pygments_lexer": "ipython3",
   "version": "3.11.8"
  }
 },
 "nbformat": 4,
 "nbformat_minor": 2
}
