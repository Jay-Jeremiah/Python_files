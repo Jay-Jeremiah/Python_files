{
 "cells": [
  {
   "cell_type": "code",
   "execution_count": 3,
   "metadata": {},
   "outputs": [
    {
     "name": "stdout",
     "output_type": "stream",
     "text": [
      "name\n",
      "position\n",
      "salary\n",
      "Key name:  name\n",
      "Key name:  position\n",
      "Key name:  salary\n"
     ]
    }
   ],
   "source": [
    "player = {\n",
    "    'name':'Kevin',\n",
    "    'position':'Mid-field',\n",
    "    'salary':300000\n",
    "}\n",
    "\n",
    "for x in player:\n",
    "    print(x)               #returns all key names\n",
    "\n",
    "for x in player.keys():\n",
    "    print(\"Key name: \",x)\n"
   ]
  },
  {
   "cell_type": "code",
   "execution_count": 4,
   "metadata": {},
   "outputs": [
    {
     "name": "stdout",
     "output_type": "stream",
     "text": [
      "Kevin\n",
      "Mid-field\n",
      "300000\n"
     ]
    }
   ],
   "source": [
    "for x in player.values():\n",
    "    print(x)               #returns values of the dictionary"
   ]
  },
  {
   "cell_type": "code",
   "execution_count": 5,
   "metadata": {},
   "outputs": [
    {
     "name": "stdout",
     "output_type": "stream",
     "text": [
      "name Kevin\n",
      "position Mid-field\n",
      "salary 300000\n"
     ]
    }
   ],
   "source": [
    "for x, y in player.items():\n",
    "    print(x,y)"
   ]
  }
 ],
 "metadata": {
  "kernelspec": {
   "display_name": "Python 3",
   "language": "python",
   "name": "python3"
  },
  "language_info": {
   "codemirror_mode": {
    "name": "ipython",
    "version": 3
   },
   "file_extension": ".py",
   "mimetype": "text/x-python",
   "name": "python",
   "nbconvert_exporter": "python",
   "pygments_lexer": "ipython3",
   "version": "3.11.8"
  }
 },
 "nbformat": 4,
 "nbformat_minor": 2
}
