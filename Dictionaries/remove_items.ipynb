{
 "cells": [
  {
   "cell_type": "code",
   "execution_count": 2,
   "metadata": {},
   "outputs": [
    {
     "name": "stdout",
     "output_type": "stream",
     "text": [
      "{'name': 'Suits Avenue', 'Location': 'Kampala', 'Speciality': 'men garments'}\n"
     ]
    }
   ],
   "source": [
    "# pop() - removes a specified index of item\n",
    "\n",
    "shop = {\n",
    "    'name':'Suits Avenue',\n",
    "    'Location':'Kampala',\n",
    "    'Speciality':'men garments',\n",
    "    'history':2009\n",
    "}\n",
    "\n",
    "shop.pop('history')\n",
    "print(shop)\n"
   ]
  },
  {
   "cell_type": "code",
   "execution_count": 4,
   "metadata": {},
   "outputs": [
    {
     "name": "stdout",
     "output_type": "stream",
     "text": [
      "{'name': 'Suits Avenue', 'Location': 'Kampala', 'Speciality': 'men garments', 'year': 1897}\n"
     ]
    }
   ],
   "source": [
    "shop['year'] = 1897\n",
    "print(shop)"
   ]
  },
  {
   "cell_type": "code",
   "execution_count": 5,
   "metadata": {},
   "outputs": [
    {
     "name": "stdout",
     "output_type": "stream",
     "text": [
      "{'name': 'Suits Avenue', 'Location': 'Kampala', 'Speciality': 'men garments'}\n"
     ]
    }
   ],
   "source": [
    "#del removes item with specified key name\n",
    "del shop['year']\n",
    "print(shop)"
   ]
  },
  {
   "cell_type": "code",
   "execution_count": null,
   "metadata": {},
   "outputs": [],
   "source": [
    "#clear() - empties the dictionary\n",
    "\n",
    "shop.clear()\n",
    "print(shop)"
   ]
  }
 ],
 "metadata": {
  "kernelspec": {
   "display_name": "Python 3",
   "language": "python",
   "name": "python3"
  },
  "language_info": {
   "codemirror_mode": {
    "name": "ipython",
    "version": 3
   },
   "file_extension": ".py",
   "mimetype": "text/x-python",
   "name": "python",
   "nbconvert_exporter": "python",
   "pygments_lexer": "ipython3",
   "version": "3.11.8"
  }
 },
 "nbformat": 4,
 "nbformat_minor": 2
}
